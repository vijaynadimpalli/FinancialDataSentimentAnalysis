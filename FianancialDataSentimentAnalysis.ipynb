{
  "nbformat": 4,
  "nbformat_minor": 0,
  "metadata": {
    "colab": {
      "name": "FianancialDataSentimentAnalysis.ipynb",
      "provenance": [],
      "collapsed_sections": [],
      "mount_file_id": "1zsjChgxjzKNmX2IAUBl-xNhLBLf8Q336",
      "authorship_tag": "ABX9TyMzua1Nw9bprujHujwI6mpR",
      "include_colab_link": true
    },
    "kernelspec": {
      "name": "python3",
      "display_name": "Python 3"
    },
    "accelerator": "GPU"
  },
  "cells": [
    {
      "cell_type": "markdown",
      "metadata": {
        "id": "view-in-github",
        "colab_type": "text"
      },
      "source": [
        "<a href=\"https://colab.research.google.com/github/vijaynadimpalli/FinancialDataSentimentAnalysis/blob/main/FianancialDataSentimentAnalysis.ipynb\" target=\"_parent\"><img src=\"https://colab.research.google.com/assets/colab-badge.svg\" alt=\"Open In Colab\"/></a>"
      ]
    },
    {
      "cell_type": "markdown",
      "metadata": {
        "id": "KI_BSD5tnsdV"
      },
      "source": [
        "# Method 1"
      ]
    },
    {
      "cell_type": "code",
      "metadata": {
        "id": "luXYJslLOt28"
      },
      "source": [
        "# from google.colab import drive\n",
        "# drive.mount('/content/drive')"
      ],
      "execution_count": null,
      "outputs": []
    },
    {
      "cell_type": "code",
      "metadata": {
        "id": "ofg7BQBMOz54"
      },
      "source": [
        "import zipfile\n",
        "zip = zipfile.ZipFile('/content/drive/My Drive/NEW_DATASCIENCE_PROJECTS/DATA&READING MATERIALS/RedditFinanceNewstop25.zip')\n",
        "zip.extractall()"
      ],
      "execution_count": null,
      "outputs": []
    },
    {
      "cell_type": "code",
      "metadata": {
        "id": "FhzuqahhoJFA"
      },
      "source": [
        "import pandas as pd"
      ],
      "execution_count": null,
      "outputs": []
    },
    {
      "cell_type": "code",
      "metadata": {
        "id": "59_Y0rqgoaiC"
      },
      "source": [
        "df = pd.read_csv(\"/content/Combined_News_DJIA.csv\")"
      ],
      "execution_count": null,
      "outputs": []
    },
    {
      "cell_type": "code",
      "metadata": {
        "id": "0nffbrf4ofG6",
        "colab": {
          "base_uri": "https://localhost:8080/",
          "height": 660
        },
        "outputId": "e99098e4-bffa-4b21-ef11-0779bdb00d74"
      },
      "source": [
        "df.head()"
      ],
      "execution_count": null,
      "outputs": [
        {
          "output_type": "execute_result",
          "data": {
            "text/html": [
              "<div>\n",
              "<style scoped>\n",
              "    .dataframe tbody tr th:only-of-type {\n",
              "        vertical-align: middle;\n",
              "    }\n",
              "\n",
              "    .dataframe tbody tr th {\n",
              "        vertical-align: top;\n",
              "    }\n",
              "\n",
              "    .dataframe thead th {\n",
              "        text-align: right;\n",
              "    }\n",
              "</style>\n",
              "<table border=\"1\" class=\"dataframe\">\n",
              "  <thead>\n",
              "    <tr style=\"text-align: right;\">\n",
              "      <th></th>\n",
              "      <th>Date</th>\n",
              "      <th>Label</th>\n",
              "      <th>Top1</th>\n",
              "      <th>Top2</th>\n",
              "      <th>Top3</th>\n",
              "      <th>Top4</th>\n",
              "      <th>Top5</th>\n",
              "      <th>Top6</th>\n",
              "      <th>Top7</th>\n",
              "      <th>Top8</th>\n",
              "      <th>Top9</th>\n",
              "      <th>Top10</th>\n",
              "      <th>Top11</th>\n",
              "      <th>Top12</th>\n",
              "      <th>Top13</th>\n",
              "      <th>Top14</th>\n",
              "      <th>Top15</th>\n",
              "      <th>Top16</th>\n",
              "      <th>Top17</th>\n",
              "      <th>Top18</th>\n",
              "      <th>Top19</th>\n",
              "      <th>Top20</th>\n",
              "      <th>Top21</th>\n",
              "      <th>Top22</th>\n",
              "      <th>Top23</th>\n",
              "      <th>Top24</th>\n",
              "      <th>Top25</th>\n",
              "    </tr>\n",
              "  </thead>\n",
              "  <tbody>\n",
              "    <tr>\n",
              "      <th>0</th>\n",
              "      <td>2008-08-08</td>\n",
              "      <td>0</td>\n",
              "      <td>b\"Georgia 'downs two Russian warplanes' as cou...</td>\n",
              "      <td>b'BREAKING: Musharraf to be impeached.'</td>\n",
              "      <td>b'Russia Today: Columns of troops roll into So...</td>\n",
              "      <td>b'Russian tanks are moving towards the capital...</td>\n",
              "      <td>b\"Afghan children raped with 'impunity,' U.N. ...</td>\n",
              "      <td>b'150 Russian tanks have entered South Ossetia...</td>\n",
              "      <td>b\"Breaking: Georgia invades South Ossetia, Rus...</td>\n",
              "      <td>b\"The 'enemy combatent' trials are nothing but...</td>\n",
              "      <td>b'Georgian troops retreat from S. Osettain cap...</td>\n",
              "      <td>b'Did the U.S. Prep Georgia for War with Russia?'</td>\n",
              "      <td>b'Rice Gives Green Light for Israel to Attack ...</td>\n",
              "      <td>b'Announcing:Class Action Lawsuit on Behalf of...</td>\n",
              "      <td>b\"So---Russia and Georgia are at war and the N...</td>\n",
              "      <td>b\"China tells Bush to stay out of other countr...</td>\n",
              "      <td>b'Did World War III start today?'</td>\n",
              "      <td>b'Georgia Invades South Ossetia - if Russia ge...</td>\n",
              "      <td>b'Al-Qaeda Faces Islamist Backlash'</td>\n",
              "      <td>b'Condoleezza Rice: \"The US would not act to p...</td>\n",
              "      <td>b'This is a busy day:  The European Union has ...</td>\n",
              "      <td>b\"Georgia will withdraw 1,000 soldiers from Ir...</td>\n",
              "      <td>b'Why the Pentagon Thinks Attacking Iran is a ...</td>\n",
              "      <td>b'Caucasus in crisis: Georgia invades South Os...</td>\n",
              "      <td>b'Indian shoe manufactory  - And again in a se...</td>\n",
              "      <td>b'Visitors Suffering from Mental Illnesses Ban...</td>\n",
              "      <td>b\"No Help for Mexico's Kidnapping Surge\"</td>\n",
              "    </tr>\n",
              "    <tr>\n",
              "      <th>1</th>\n",
              "      <td>2008-08-11</td>\n",
              "      <td>1</td>\n",
              "      <td>b'Why wont America and Nato help us? If they w...</td>\n",
              "      <td>b'Bush puts foot down on Georgian conflict'</td>\n",
              "      <td>b\"Jewish Georgian minister: Thanks to Israeli ...</td>\n",
              "      <td>b'Georgian army flees in disarray as Russians ...</td>\n",
              "      <td>b\"Olympic opening ceremony fireworks 'faked'\"</td>\n",
              "      <td>b'What were the Mossad with fraudulent New Zea...</td>\n",
              "      <td>b'Russia angered by Israeli military sale to G...</td>\n",
              "      <td>b'An American citizen living in S.Ossetia blam...</td>\n",
              "      <td>b'Welcome To World War IV! Now In High Definit...</td>\n",
              "      <td>b\"Georgia's move, a mistake of monumental prop...</td>\n",
              "      <td>b'Russia presses deeper into Georgia; U.S. say...</td>\n",
              "      <td>b'Abhinav Bindra wins first ever Individual Ol...</td>\n",
              "      <td>b' U.S. ship heads for Arctic to define territ...</td>\n",
              "      <td>b'Drivers in a Jerusalem taxi station threaten...</td>\n",
              "      <td>b'The French Team is Stunned by Phelps and the...</td>\n",
              "      <td>b'Israel and the US behind the Georgian aggres...</td>\n",
              "      <td>b'\"Do not believe TV, neither Russian nor Geor...</td>\n",
              "      <td>b'Riots are still going on in Montreal (Canada...</td>\n",
              "      <td>b'China to overtake US as largest manufacturer'</td>\n",
              "      <td>b'War in South Ossetia [PICS]'</td>\n",
              "      <td>b'Israeli Physicians Group Condemns State Tort...</td>\n",
              "      <td>b' Russia has just beaten the United States ov...</td>\n",
              "      <td>b'Perhaps *the* question about the Georgia - R...</td>\n",
              "      <td>b'Russia is so much better at war'</td>\n",
              "      <td>b\"So this is what it's come to: trading sex fo...</td>\n",
              "    </tr>\n",
              "    <tr>\n",
              "      <th>2</th>\n",
              "      <td>2008-08-12</td>\n",
              "      <td>0</td>\n",
              "      <td>b'Remember that adorable 9-year-old who sang a...</td>\n",
              "      <td>b\"Russia 'ends Georgia operation'\"</td>\n",
              "      <td>b'\"If we had no sexual harassment we would hav...</td>\n",
              "      <td>b\"Al-Qa'eda is losing support in Iraq because ...</td>\n",
              "      <td>b'Ceasefire in Georgia: Putin Outmaneuvers the...</td>\n",
              "      <td>b'Why Microsoft and Intel tried to kill the XO...</td>\n",
              "      <td>b'Stratfor: The Russo-Georgian War and the Bal...</td>\n",
              "      <td>b\"I'm Trying to Get a Sense of This Whole Geor...</td>\n",
              "      <td>b\"The US military was surprised by the timing ...</td>\n",
              "      <td>b'U.S. Beats War Drum as Iran Dumps the Dollar'</td>\n",
              "      <td>b'Gorbachev: \"Georgian military attacked the S...</td>\n",
              "      <td>b'CNN use footage of Tskhinvali ruins to cover...</td>\n",
              "      <td>b'Beginning a war as the Olympics were opening...</td>\n",
              "      <td>b'55 pyramids as large as the Luxor stacked in...</td>\n",
              "      <td>b'The 11 Top Party Cities in the World'</td>\n",
              "      <td>b'U.S. troops still in Georgia (did you know t...</td>\n",
              "      <td>b'Why Russias response to Georgia was right'</td>\n",
              "      <td>b'Gorbachev accuses U.S. of making a \"serious ...</td>\n",
              "      <td>b'Russia, Georgia, and NATO: Cold War Two'</td>\n",
              "      <td>b'Remember that adorable 62-year-old who led y...</td>\n",
              "      <td>b'War in Georgia: The Israeli connection'</td>\n",
              "      <td>b'All signs point to the US encouraging Georgi...</td>\n",
              "      <td>b'Christopher King argues that the US and NATO...</td>\n",
              "      <td>b'America: The New Mexico?'</td>\n",
              "      <td>b\"BBC NEWS | Asia-Pacific | Extinction 'by man...</td>\n",
              "    </tr>\n",
              "    <tr>\n",
              "      <th>3</th>\n",
              "      <td>2008-08-13</td>\n",
              "      <td>0</td>\n",
              "      <td>b' U.S. refuses Israel weapons to attack Iran:...</td>\n",
              "      <td>b\"When the president ordered to attack Tskhinv...</td>\n",
              "      <td>b' Israel clears troops who killed Reuters cam...</td>\n",
              "      <td>b'Britain\\'s policy of being tough on drugs is...</td>\n",
              "      <td>b'Body of 14 year old found in trunk; Latest (...</td>\n",
              "      <td>b'China has moved 10 *million* quake survivors...</td>\n",
              "      <td>b\"Bush announces Operation Get All Up In Russi...</td>\n",
              "      <td>b'Russian forces sink Georgian ships '</td>\n",
              "      <td>b\"The commander of a Navy air reconnaissance s...</td>\n",
              "      <td>b\"92% of CNN readers: Russia's actions in Geor...</td>\n",
              "      <td>b'USA to send fleet into Black Sea to help Geo...</td>\n",
              "      <td>b\"US warns against Israeli plan to strike agai...</td>\n",
              "      <td>b\"In an intriguing cyberalliance, two Estonian...</td>\n",
              "      <td>b'The CNN Effect: Georgia Schools Russia in In...</td>\n",
              "      <td>b'Why Russias response to Georgia was right'</td>\n",
              "      <td>b'Elephants extinct by 2020?'</td>\n",
              "      <td>b'US humanitarian missions soon in Georgia - i...</td>\n",
              "      <td>b\"Georgia's DDOS came from US sources\"</td>\n",
              "      <td>b'Russian convoy heads into Georgia, violating...</td>\n",
              "      <td>b'Israeli defence minister: US against strike ...</td>\n",
              "      <td>b'Gorbachev: We Had No Choice'</td>\n",
              "      <td>b'Witness: Russian forces head towards Tbilisi...</td>\n",
              "      <td>b' Quarter of Russians blame U.S. for conflict...</td>\n",
              "      <td>b'Georgian president  says US military will ta...</td>\n",
              "      <td>b'2006: Nobel laureate Aleksander Solzhenitsyn...</td>\n",
              "    </tr>\n",
              "    <tr>\n",
              "      <th>4</th>\n",
              "      <td>2008-08-14</td>\n",
              "      <td>1</td>\n",
              "      <td>b'All the experts admit that we should legalis...</td>\n",
              "      <td>b'War in South Osetia - 89 pictures made by a ...</td>\n",
              "      <td>b'Swedish wrestler Ara Abrahamian throws away ...</td>\n",
              "      <td>b'Russia exaggerated the death toll in South O...</td>\n",
              "      <td>b'Missile That Killed 9 Inside Pakistan May Ha...</td>\n",
              "      <td>b\"Rushdie Condemns Random House's Refusal to P...</td>\n",
              "      <td>b'Poland and US agree to missle defense deal. ...</td>\n",
              "      <td>b'Will the Russians conquer Tblisi? Bet on it,...</td>\n",
              "      <td>b'Russia exaggerating South Ossetian death tol...</td>\n",
              "      <td>b' Musharraf expected to resign rather than fa...</td>\n",
              "      <td>b'Moscow Made Plans Months Ago to Invade Georgia'</td>\n",
              "      <td>b'Why Russias response to Georgia was right'</td>\n",
              "      <td>b'Nigeria has handed over the potentially oil-...</td>\n",
              "      <td>b'The US and Poland have agreed a preliminary ...</td>\n",
              "      <td>b'Russia apparently is sabotaging infrastructu...</td>\n",
              "      <td>b'Bank analyst forecast Georgian crisis 2 days...</td>\n",
              "      <td>b\"Georgia confict could set back Russia's US r...</td>\n",
              "      <td>b'War in the Caucasus is as much the product o...</td>\n",
              "      <td>b'\"Non-media\" photos of South Ossetia/Georgia ...</td>\n",
              "      <td>b'Georgian TV reporter shot by Russian sniper ...</td>\n",
              "      <td>b'Saudi Arabia: Mother moves to block child ma...</td>\n",
              "      <td>b'Taliban wages war on humanitarian aid workers'</td>\n",
              "      <td>b'Russia: World  \"can forget about\" Georgia\\'s...</td>\n",
              "      <td>b'Darfur rebels accuse Sudan of mounting major...</td>\n",
              "      <td>b'Philippines : Peace Advocate say Muslims nee...</td>\n",
              "    </tr>\n",
              "  </tbody>\n",
              "</table>\n",
              "</div>"
            ],
            "text/plain": [
              "         Date  ...                                              Top25\n",
              "0  2008-08-08  ...           b\"No Help for Mexico's Kidnapping Surge\"\n",
              "1  2008-08-11  ...  b\"So this is what it's come to: trading sex fo...\n",
              "2  2008-08-12  ...  b\"BBC NEWS | Asia-Pacific | Extinction 'by man...\n",
              "3  2008-08-13  ...  b'2006: Nobel laureate Aleksander Solzhenitsyn...\n",
              "4  2008-08-14  ...  b'Philippines : Peace Advocate say Muslims nee...\n",
              "\n",
              "[5 rows x 27 columns]"
            ]
          },
          "metadata": {
            "tags": []
          },
          "execution_count": 5
        }
      ]
    },
    {
      "cell_type": "code",
      "metadata": {
        "id": "68IjDeSZoggH",
        "colab": {
          "base_uri": "https://localhost:8080/"
        },
        "outputId": "82c29537-ce69-46ca-928c-a5ea925d7479"
      },
      "source": [
        "df.info()"
      ],
      "execution_count": null,
      "outputs": [
        {
          "output_type": "stream",
          "text": [
            "<class 'pandas.core.frame.DataFrame'>\n",
            "RangeIndex: 1989 entries, 0 to 1988\n",
            "Data columns (total 27 columns):\n",
            " #   Column  Non-Null Count  Dtype \n",
            "---  ------  --------------  ----- \n",
            " 0   Date    1989 non-null   object\n",
            " 1   Label   1989 non-null   int64 \n",
            " 2   Top1    1989 non-null   object\n",
            " 3   Top2    1989 non-null   object\n",
            " 4   Top3    1989 non-null   object\n",
            " 5   Top4    1989 non-null   object\n",
            " 6   Top5    1989 non-null   object\n",
            " 7   Top6    1989 non-null   object\n",
            " 8   Top7    1989 non-null   object\n",
            " 9   Top8    1989 non-null   object\n",
            " 10  Top9    1989 non-null   object\n",
            " 11  Top10   1989 non-null   object\n",
            " 12  Top11   1989 non-null   object\n",
            " 13  Top12   1989 non-null   object\n",
            " 14  Top13   1989 non-null   object\n",
            " 15  Top14   1989 non-null   object\n",
            " 16  Top15   1989 non-null   object\n",
            " 17  Top16   1989 non-null   object\n",
            " 18  Top17   1989 non-null   object\n",
            " 19  Top18   1989 non-null   object\n",
            " 20  Top19   1989 non-null   object\n",
            " 21  Top20   1989 non-null   object\n",
            " 22  Top21   1989 non-null   object\n",
            " 23  Top22   1989 non-null   object\n",
            " 24  Top23   1988 non-null   object\n",
            " 25  Top24   1986 non-null   object\n",
            " 26  Top25   1986 non-null   object\n",
            "dtypes: int64(1), object(26)\n",
            "memory usage: 419.7+ KB\n"
          ],
          "name": "stdout"
        }
      ]
    },
    {
      "cell_type": "code",
      "metadata": {
        "id": "1nG7s6SWolTf",
        "colab": {
          "base_uri": "https://localhost:8080/"
        },
        "outputId": "9651930d-0a51-4306-c134-af0ba0bfb682"
      },
      "source": [
        "top_starters = df.apply(lambda x:x['Top1'][0:2] ,axis=1).value_counts()[0:2].index.values\n",
        "top_starters"
      ],
      "execution_count": null,
      "outputs": [
        {
          "output_type": "execute_result",
          "data": {
            "text/plain": [
              "array([\"b'\", 'b\"'], dtype=object)"
            ]
          },
          "metadata": {
            "tags": []
          },
          "execution_count": 7
        }
      ]
    },
    {
      "cell_type": "code",
      "metadata": {
        "id": "LBHt3ooyrF3m"
      },
      "source": [
        "#df['Top1'][df['Top1'].apply(lambda x: x[0:2] in top_starters)].apply(lambda x:x[-1:]).unique()"
      ],
      "execution_count": null,
      "outputs": []
    },
    {
      "cell_type": "code",
      "metadata": {
        "id": "1E6r8GdVwZqf"
      },
      "source": [
        "#df['Top1'].apply(lambda x: x[2:-1] if  x[0:2] in top_starters else x)"
      ],
      "execution_count": null,
      "outputs": []
    },
    {
      "cell_type": "code",
      "metadata": {
        "id": "KexMPpFgyX64"
      },
      "source": [
        "#trying to remove the quotations and b' in sentences\n",
        "for col in df.columns[2:].values:\n",
        "  #print(col)\n",
        "  df[col] = df[col].astype('str').apply(lambda x: x[2:-1].lower() if  x[0:2] in top_starters else x.lower())"
      ],
      "execution_count": null,
      "outputs": []
    },
    {
      "cell_type": "code",
      "metadata": {
        "id": "lRfem7ddysXO",
        "colab": {
          "base_uri": "https://localhost:8080/",
          "height": 730
        },
        "outputId": "69af5b1b-c5f8-4f5d-b819-b254bc2c66bf"
      },
      "source": [
        "df.head()"
      ],
      "execution_count": null,
      "outputs": [
        {
          "output_type": "execute_result",
          "data": {
            "text/html": [
              "<div>\n",
              "<style scoped>\n",
              "    .dataframe tbody tr th:only-of-type {\n",
              "        vertical-align: middle;\n",
              "    }\n",
              "\n",
              "    .dataframe tbody tr th {\n",
              "        vertical-align: top;\n",
              "    }\n",
              "\n",
              "    .dataframe thead th {\n",
              "        text-align: right;\n",
              "    }\n",
              "</style>\n",
              "<table border=\"1\" class=\"dataframe\">\n",
              "  <thead>\n",
              "    <tr style=\"text-align: right;\">\n",
              "      <th></th>\n",
              "      <th>Date</th>\n",
              "      <th>Label</th>\n",
              "      <th>Top1</th>\n",
              "      <th>Top2</th>\n",
              "      <th>Top3</th>\n",
              "      <th>Top4</th>\n",
              "      <th>Top5</th>\n",
              "      <th>Top6</th>\n",
              "      <th>Top7</th>\n",
              "      <th>Top8</th>\n",
              "      <th>Top9</th>\n",
              "      <th>Top10</th>\n",
              "      <th>Top11</th>\n",
              "      <th>Top12</th>\n",
              "      <th>Top13</th>\n",
              "      <th>Top14</th>\n",
              "      <th>Top15</th>\n",
              "      <th>Top16</th>\n",
              "      <th>Top17</th>\n",
              "      <th>Top18</th>\n",
              "      <th>Top19</th>\n",
              "      <th>Top20</th>\n",
              "      <th>Top21</th>\n",
              "      <th>Top22</th>\n",
              "      <th>Top23</th>\n",
              "      <th>Top24</th>\n",
              "      <th>Top25</th>\n",
              "    </tr>\n",
              "  </thead>\n",
              "  <tbody>\n",
              "    <tr>\n",
              "      <th>0</th>\n",
              "      <td>2008-08-08</td>\n",
              "      <td>0</td>\n",
              "      <td>georgia 'downs two russian warplanes' as count...</td>\n",
              "      <td>breaking: musharraf to be impeached.</td>\n",
              "      <td>russia today: columns of troops roll into sout...</td>\n",
              "      <td>russian tanks are moving towards the capital o...</td>\n",
              "      <td>afghan children raped with 'impunity,' u.n. of...</td>\n",
              "      <td>150 russian tanks have entered south ossetia w...</td>\n",
              "      <td>breaking: georgia invades south ossetia, russi...</td>\n",
              "      <td>the 'enemy combatent' trials are nothing but a...</td>\n",
              "      <td>georgian troops retreat from s. osettain capit...</td>\n",
              "      <td>did the u.s. prep georgia for war with russia?</td>\n",
              "      <td>rice gives green light for israel to attack ir...</td>\n",
              "      <td>announcing:class action lawsuit on behalf of a...</td>\n",
              "      <td>so---russia and georgia are at war and the nyt...</td>\n",
              "      <td>china tells bush to stay out of other countrie...</td>\n",
              "      <td>did world war iii start today?</td>\n",
              "      <td>georgia invades south ossetia - if russia gets...</td>\n",
              "      <td>al-qaeda faces islamist backlash</td>\n",
              "      <td>condoleezza rice: \"the us would not act to pre...</td>\n",
              "      <td>this is a busy day:  the european union has ap...</td>\n",
              "      <td>georgia will withdraw 1,000 soldiers from iraq...</td>\n",
              "      <td>why the pentagon thinks attacking iran is a ba...</td>\n",
              "      <td>caucasus in crisis: georgia invades south ossetia</td>\n",
              "      <td>indian shoe manufactory  - and again in a seri...</td>\n",
              "      <td>visitors suffering from mental illnesses banne...</td>\n",
              "      <td>no help for mexico's kidnapping surge</td>\n",
              "    </tr>\n",
              "    <tr>\n",
              "      <th>1</th>\n",
              "      <td>2008-08-11</td>\n",
              "      <td>1</td>\n",
              "      <td>why wont america and nato help us? if they won...</td>\n",
              "      <td>bush puts foot down on georgian conflict</td>\n",
              "      <td>jewish georgian minister: thanks to israeli tr...</td>\n",
              "      <td>georgian army flees in disarray as russians ad...</td>\n",
              "      <td>olympic opening ceremony fireworks 'faked'</td>\n",
              "      <td>what were the mossad with fraudulent new zeala...</td>\n",
              "      <td>russia angered by israeli military sale to geo...</td>\n",
              "      <td>an american citizen living in s.ossetia blames...</td>\n",
              "      <td>welcome to world war iv! now in high definition!</td>\n",
              "      <td>georgia's move, a mistake of monumental propor...</td>\n",
              "      <td>russia presses deeper into georgia; u.s. says ...</td>\n",
              "      <td>abhinav bindra wins first ever individual olym...</td>\n",
              "      <td>u.s. ship heads for arctic to define territory</td>\n",
              "      <td>drivers in a jerusalem taxi station threaten t...</td>\n",
              "      <td>the french team is stunned by phelps and the 4...</td>\n",
              "      <td>israel and the us behind the georgian aggression?</td>\n",
              "      <td>\"do not believe tv, neither russian nor georgi...</td>\n",
              "      <td>riots are still going on in montreal (canada) ...</td>\n",
              "      <td>china to overtake us as largest manufacturer</td>\n",
              "      <td>war in south ossetia [pics]</td>\n",
              "      <td>israeli physicians group condemns state torture</td>\n",
              "      <td>russia has just beaten the united states over...</td>\n",
              "      <td>perhaps *the* question about the georgia - rus...</td>\n",
              "      <td>russia is so much better at war</td>\n",
              "      <td>so this is what it's come to: trading sex for ...</td>\n",
              "    </tr>\n",
              "    <tr>\n",
              "      <th>2</th>\n",
              "      <td>2008-08-12</td>\n",
              "      <td>0</td>\n",
              "      <td>remember that adorable 9-year-old who sang at ...</td>\n",
              "      <td>russia 'ends georgia operation'</td>\n",
              "      <td>\"if we had no sexual harassment we would have ...</td>\n",
              "      <td>al-qa'eda is losing support in iraq because of...</td>\n",
              "      <td>ceasefire in georgia: putin outmaneuvers the west</td>\n",
              "      <td>why microsoft and intel tried to kill the xo $...</td>\n",
              "      <td>stratfor: the russo-georgian war and the balan...</td>\n",
              "      <td>i'm trying to get a sense of this whole georgi...</td>\n",
              "      <td>the us military was surprised by the timing an...</td>\n",
              "      <td>u.s. beats war drum as iran dumps the dollar</td>\n",
              "      <td>gorbachev: \"georgian military attacked the sou...</td>\n",
              "      <td>cnn use footage of tskhinvali ruins to cover g...</td>\n",
              "      <td>beginning a war as the olympics were opening v...</td>\n",
              "      <td>55 pyramids as large as the luxor stacked into...</td>\n",
              "      <td>the 11 top party cities in the world</td>\n",
              "      <td>u.s. troops still in georgia (did you know the...</td>\n",
              "      <td>why russias response to georgia was right</td>\n",
              "      <td>gorbachev accuses u.s. of making a \"serious bl...</td>\n",
              "      <td>russia, georgia, and nato: cold war two</td>\n",
              "      <td>remember that adorable 62-year-old who led you...</td>\n",
              "      <td>war in georgia: the israeli connection</td>\n",
              "      <td>all signs point to the us encouraging georgia ...</td>\n",
              "      <td>christopher king argues that the us and nato a...</td>\n",
              "      <td>america: the new mexico?</td>\n",
              "      <td>bbc news | asia-pacific | extinction 'by man n...</td>\n",
              "    </tr>\n",
              "    <tr>\n",
              "      <th>3</th>\n",
              "      <td>2008-08-13</td>\n",
              "      <td>0</td>\n",
              "      <td>u.s. refuses israel weapons to attack iran: r...</td>\n",
              "      <td>when the president ordered to attack tskhinval...</td>\n",
              "      <td>israel clears troops who killed reuters camer...</td>\n",
              "      <td>britain\\'s policy of being tough on drugs is \"...</td>\n",
              "      <td>body of 14 year old found in trunk; latest (ra...</td>\n",
              "      <td>china has moved 10 *million* quake survivors i...</td>\n",
              "      <td>bush announces operation get all up in russia'...</td>\n",
              "      <td>russian forces sink georgian ships</td>\n",
              "      <td>the commander of a navy air reconnaissance squ...</td>\n",
              "      <td>92% of cnn readers: russia's actions in georgi...</td>\n",
              "      <td>usa to send fleet into black sea to help georg...</td>\n",
              "      <td>us warns against israeli plan to strike agains...</td>\n",
              "      <td>in an intriguing cyberalliance, two estonian c...</td>\n",
              "      <td>the cnn effect: georgia schools russia in info...</td>\n",
              "      <td>why russias response to georgia was right</td>\n",
              "      <td>elephants extinct by 2020?</td>\n",
              "      <td>us humanitarian missions soon in georgia - if ...</td>\n",
              "      <td>georgia's ddos came from us sources</td>\n",
              "      <td>russian convoy heads into georgia, violating t...</td>\n",
              "      <td>israeli defence minister: us against strike on...</td>\n",
              "      <td>gorbachev: we had no choice</td>\n",
              "      <td>witness: russian forces head towards tbilisi i...</td>\n",
              "      <td>quarter of russians blame u.s. for conflict: ...</td>\n",
              "      <td>georgian president  says us military will take...</td>\n",
              "      <td>2006: nobel laureate aleksander solzhenitsyn a...</td>\n",
              "    </tr>\n",
              "    <tr>\n",
              "      <th>4</th>\n",
              "      <td>2008-08-14</td>\n",
              "      <td>1</td>\n",
              "      <td>all the experts admit that we should legalise ...</td>\n",
              "      <td>war in south osetia - 89 pictures made by a ru...</td>\n",
              "      <td>swedish wrestler ara abrahamian throws away me...</td>\n",
              "      <td>russia exaggerated the death toll in south oss...</td>\n",
              "      <td>missile that killed 9 inside pakistan may have...</td>\n",
              "      <td>rushdie condemns random house's refusal to pub...</td>\n",
              "      <td>poland and us agree to missle defense deal. in...</td>\n",
              "      <td>will the russians conquer tblisi? bet on it, n...</td>\n",
              "      <td>russia exaggerating south ossetian death toll,...</td>\n",
              "      <td>musharraf expected to resign rather than face...</td>\n",
              "      <td>moscow made plans months ago to invade georgia</td>\n",
              "      <td>why russias response to georgia was right</td>\n",
              "      <td>nigeria has handed over the potentially oil-ri...</td>\n",
              "      <td>the us and poland have agreed a preliminary de...</td>\n",
              "      <td>russia apparently is sabotaging infrastructure...</td>\n",
              "      <td>bank analyst forecast georgian crisis 2 days e...</td>\n",
              "      <td>georgia confict could set back russia's us rel...</td>\n",
              "      <td>war in the caucasus is as much the product of ...</td>\n",
              "      <td>\"non-media\" photos of south ossetia/georgia co...</td>\n",
              "      <td>georgian tv reporter shot by russian sniper du...</td>\n",
              "      <td>saudi arabia: mother moves to block child marr...</td>\n",
              "      <td>taliban wages war on humanitarian aid workers</td>\n",
              "      <td>russia: world  \"can forget about\" georgia\\'s t...</td>\n",
              "      <td>darfur rebels accuse sudan of mounting major a...</td>\n",
              "      <td>philippines : peace advocate say muslims need ...</td>\n",
              "    </tr>\n",
              "  </tbody>\n",
              "</table>\n",
              "</div>"
            ],
            "text/plain": [
              "         Date  ...                                              Top25\n",
              "0  2008-08-08  ...              no help for mexico's kidnapping surge\n",
              "1  2008-08-11  ...  so this is what it's come to: trading sex for ...\n",
              "2  2008-08-12  ...  bbc news | asia-pacific | extinction 'by man n...\n",
              "3  2008-08-13  ...  2006: nobel laureate aleksander solzhenitsyn a...\n",
              "4  2008-08-14  ...  philippines : peace advocate say muslims need ...\n",
              "\n",
              "[5 rows x 27 columns]"
            ]
          },
          "metadata": {
            "tags": []
          },
          "execution_count": 11
        }
      ]
    },
    {
      "cell_type": "code",
      "metadata": {
        "id": "5thp2un12IJH",
        "colab": {
          "base_uri": "https://localhost:8080/",
          "height": 351
        },
        "outputId": "c48c236e-f34f-470d-b83f-712a7976c211"
      },
      "source": [
        "import seaborn as sns\n",
        "import matplotlib.pyplot as plt\n",
        "sns.countplot(df['Label'])"
      ],
      "execution_count": null,
      "outputs": [
        {
          "output_type": "stream",
          "text": [
            "/usr/local/lib/python3.6/dist-packages/seaborn/_decorators.py:43: FutureWarning: Pass the following variable as a keyword arg: x. From version 0.12, the only valid positional argument will be `data`, and passing other arguments without an explicit keyword will result in an error or misinterpretation.\n",
            "  FutureWarning\n"
          ],
          "name": "stderr"
        },
        {
          "output_type": "execute_result",
          "data": {
            "text/plain": [
              "<matplotlib.axes._subplots.AxesSubplot at 0x7f9969ba4278>"
            ]
          },
          "metadata": {
            "tags": []
          },
          "execution_count": 12
        },
        {
          "output_type": "display_data",
          "data": {
            "image/png": "[encoded data removed]",
            "text/plain": [
              "<Figure size 432x288 with 1 Axes>"
            ]
          },
          "metadata": {
            "tags": [],
            "needs_background": "light"
          }
        }
      ]
    },
    {
      "cell_type": "code",
      "metadata": {
        "id": "H8xh3lZ-WoDj"
      },
      "source": [
        ""
      ],
      "execution_count": null,
      "outputs": []
    },
    {
      "cell_type": "code",
      "metadata": {
        "id": "1w-9RW1jlGzd",
        "colab": {
          "base_uri": "https://localhost:8080/",
          "height": 351
        },
        "outputId": "d910af90-3cc8-426a-ccf1-d8b9d44521b6"
      },
      "source": [
        "sns.distplot(df['Top1'].apply(lambda x : len(x.split())))"
      ],
      "execution_count": null,
      "outputs": [
        {
          "output_type": "stream",
          "text": [
            "/usr/local/lib/python3.6/dist-packages/seaborn/distributions.py:2551: FutureWarning: `distplot` is a deprecated function and will be removed in a future version. Please adapt your code to use either `displot` (a figure-level function with similar flexibility) or `histplot` (an axes-level function for histograms).\n",
            "  warnings.warn(msg, FutureWarning)\n"
          ],
          "name": "stderr"
        },
        {
          "output_type": "execute_result",
          "data": {
            "text/plain": [
              "<matplotlib.axes._subplots.AxesSubplot at 0x7f99696866a0>"
            ]
          },
          "metadata": {
            "tags": []
          },
          "execution_count": 13
        },
        {
          "output_type": "display_data",
          "data": {
            "image/png": "[encoded data removed]",
            "text/plain": [
              "<Figure size 432x288 with 1 Axes>"
            ]
          },
          "metadata": {
            "tags": [],
            "needs_background": "light"
          }
        }
      ]
    },
    {
      "cell_type": "code",
      "metadata": {
        "id": "Ob56Pj-ylojV",
        "colab": {
          "base_uri": "https://localhost:8080/"
        },
        "outputId": "340e46d9-1075-43c4-e593-fda7debb1cca"
      },
      "source": [
        "#Tx (Cap of string length) = 50\n",
        "import nltk\n",
        "import string\n",
        "nltk.download('punkt',download_dir='/usr/lib/nltk_data')\n",
        "from nltk import word_tokenize\n",
        "from nltk.corpus import stopwords\n",
        "nltk.download('stopwords')"
      ],
      "execution_count": null,
      "outputs": [
        {
          "output_type": "stream",
          "text": [
            "[nltk_data] Downloading package punkt to /usr/lib/nltk_data...\n",
            "[nltk_data]   Unzipping tokenizers/punkt.zip.\n",
            "[nltk_data] Downloading package stopwords to /root/nltk_data...\n",
            "[nltk_data]   Unzipping corpora/stopwords.zip.\n"
          ],
          "name": "stdout"
        },
        {
          "output_type": "execute_result",
          "data": {
            "text/plain": [
              "True"
            ]
          },
          "metadata": {
            "tags": []
          },
          "execution_count": 14
        }
      ]
    },
    {
      "cell_type": "code",
      "metadata": {
        "id": "X1KavMOTpc5p",
        "colab": {
          "base_uri": "https://localhost:8080/"
        },
        "outputId": "aa35f756-6a62-4a07-c7ee-822c25d21de4"
      },
      "source": [
        "import os\n",
        "if os.path.isfile('/content/glove.6B.zip')==False:\n",
        "  !wget http://nlp.stanford.edu/data/glove.6B.zip\n",
        "\n",
        "if os.path.isfile('/content/glove.6B.50d.txt')==False:\n",
        "  zip = zipfile.ZipFile('/content/glove.6B.zip')\n",
        "  zip.extractall()\n",
        "  zip.close()"
      ],
      "execution_count": null,
      "outputs": [
        {
          "output_type": "stream",
          "text": [
            "--2020-11-30 13:14:41--  http://nlp.stanford.edu/data/glove.6B.zip\n",
            "Resolving nlp.stanford.edu (nlp.stanford.edu)... 171.64.67.140\n",
            "Connecting to nlp.stanford.edu (nlp.stanford.edu)|171.64.67.140|:80... connected.\n",
            "HTTP request sent, awaiting response... 302 Found\n",
            "Location: https://nlp.stanford.edu/data/glove.6B.zip [following]\n",
            "--2020-11-30 13:14:41--  https://nlp.stanford.edu/data/glove.6B.zip\n",
            "Connecting to nlp.stanford.edu (nlp.stanford.edu)|171.64.67.140|:443... connected.\n",
            "HTTP request sent, awaiting response... 301 Moved Permanently\n",
            "Location: http://downloads.cs.stanford.edu/nlp/data/glove.6B.zip [following]\n",
            "--2020-11-30 13:14:41--  http://downloads.cs.stanford.edu/nlp/data/glove.6B.zip\n",
            "Resolving downloads.cs.stanford.edu (downloads.cs.stanford.edu)... 171.64.64.22\n",
            "Connecting to downloads.cs.stanford.edu (downloads.cs.stanford.edu)|171.64.64.22|:80... connected.\n",
            "HTTP request sent, awaiting response... 200 OK\n",
            "Length: 862182613 (822M) [application/zip]\n",
            "Saving to: ‘glove.6B.zip’\n",
            "\n",
            "glove.6B.zip        100%[===================>] 822.24M  1.80MB/s    in 6m 29s  \n",
            "\n",
            "2020-11-30 13:21:10 (2.11 MB/s) - ‘glove.6B.zip’ saved [862182613/862182613]\n",
            "\n"
          ],
          "name": "stdout"
        }
      ]
    },
    {
      "cell_type": "code",
      "metadata": {
        "id": "V_1IPIidzPXt"
      },
      "source": [
        "import numpy as np\n",
        "word_embeddings = {}\n",
        "words = set()\n",
        "\n",
        "with open('/content/glove.6B.50d.txt',mode='r') as f:\n",
        "  for line in f:\n",
        "    line = line.split()\n",
        "    words.add(line[0])\n",
        "    word_embeddings[line[0]] = line[1:]\n",
        "\n",
        "index_to_word = {}\n",
        "word_to_index = {}\n",
        "for i,word in enumerate(sorted(words)):\n",
        "  index_to_word[i+1] = word\n",
        "  word_to_index[word] = i+1\n",
        "#indices range from 1 to 400000"
      ],
      "execution_count": null,
      "outputs": []
    },
    {
      "cell_type": "code",
      "metadata": {
        "id": "oMLJV5j3l8I-"
      },
      "source": [
        "def sent_to_indices(s,vocab):\n",
        "  lr = np.zeros((1,50))\n",
        "  for i,w in enumerate(word_tokenize(s)[:50]):\n",
        "    w = w.translate(str.maketrans('','',string.punctuation))\n",
        "    #str.maketrans creates a dict for translate to change characters...\n",
        "    #print(w + \" \" + str(i))\n",
        "    #if a word is not present in glove keep it as 0\n",
        "    if w !='' and w in word_to_index and w not in stopwords.words('english'):\n",
        "      vocab.add(w)\n",
        "      lr[:,i] = word_to_index[w]\n",
        "  return lr\n",
        "\n",
        "\n",
        "def all_sent_indices(df,vocab):\n",
        "  labels = np.zeros((25*df.shape[0],1))\n",
        "  sentences = np.zeros((25*df.shape[0],50))\n",
        "  i = 0\n",
        "  for index in df.index:\n",
        "    for col in df.columns[2:].values:\n",
        "      labels[i] = df.loc[index][\"Label\"]\n",
        "      sentences[i] = sent_to_indices(df.loc[index][col],vocab)\n",
        "      i+=1\n",
        "  return sentences,labels"
      ],
      "execution_count": null,
      "outputs": []
    },
    {
      "cell_type": "code",
      "metadata": {
        "id": "Gsjh1D3tAS-Y"
      },
      "source": [
        "vocab = set()\n",
        "sentences,labels = all_sent_indices(df,vocab)"
      ],
      "execution_count": null,
      "outputs": []
    },
    {
      "cell_type": "code",
      "metadata": {
        "id": "CjIGDU5XA-bf",
        "colab": {
          "base_uri": "https://localhost:8080/"
        },
        "outputId": "b924c303-dc10-4814-c88c-ce905959e19b"
      },
      "source": [
        "len(vocab)"
      ],
      "execution_count": null,
      "outputs": [
        {
          "output_type": "execute_result",
          "data": {
            "text/plain": [
              "31726"
            ]
          },
          "metadata": {
            "tags": []
          },
          "execution_count": 19
        }
      ]
    },
    {
      "cell_type": "code",
      "metadata": {
        "id": "W30KTXQAPMV_",
        "colab": {
          "base_uri": "https://localhost:8080/"
        },
        "outputId": "2a7ac490-0f7d-4522-9752-8b58bafd899b"
      },
      "source": [
        "import sklearn\n",
        "from sklearn.model_selection import train_test_split\n",
        "\n",
        "X_train, X_test, y_train, y_test = train_test_split(sentences, labels, test_size=0.2, random_state=42)\n",
        "print(X_train.shape)\n",
        "print(X_test.shape)\n",
        "print(y_train.shape)\n",
        "print(y_test.shape)"
      ],
      "execution_count": null,
      "outputs": [
        {
          "output_type": "stream",
          "text": [
            "(39780, 50)\n",
            "(9945, 50)\n",
            "(39780, 1)\n",
            "(9945, 1)\n"
          ],
          "name": "stdout"
        }
      ]
    },
    {
      "cell_type": "code",
      "metadata": {
        "id": "tR0Q441UAq2c",
        "colab": {
          "base_uri": "https://localhost:8080/"
        },
        "outputId": "0d0de9ca-479e-41fd-e8df-077acae5b662"
      },
      "source": [
        "X_train[0]"
      ],
      "execution_count": null,
      "outputs": [
        {
          "output_type": "execute_result",
          "data": {
            "text/plain": [
              "array([ 51524., 207050.,      0.,      0., 134189., 260141., 107049.,\n",
              "            0.,      0.,      0.,      0.,      0.,      0.,      0.,\n",
              "            0.,      0.,      0.,      0.,      0.,      0.,      0.,\n",
              "            0.,      0.,      0.,      0.,      0.,      0.,      0.,\n",
              "            0.,      0.,      0.,      0.,      0.,      0.,      0.,\n",
              "            0.,      0.,      0.,      0.,      0.,      0.,      0.,\n",
              "            0.,      0.,      0.,      0.,      0.,      0.,      0.,\n",
              "            0.])"
            ]
          },
          "metadata": {
            "tags": []
          },
          "execution_count": 21
        }
      ]
    },
    {
      "cell_type": "code",
      "metadata": {
        "id": "jn7ZcumUjmkB",
        "colab": {
          "base_uri": "https://localhost:8080/"
        },
        "outputId": "0e9a1651-c0ff-430b-c41f-89ecd963273a"
      },
      "source": [
        "print(\"embedding length = \" + str(len(word_embeddings['a'])))\n",
        "print(\"data vocab size = \" + str(len(vocab)))\n",
        "print(\"Glove vocab size = \" + str(len(word_embeddings)))\n",
        "print(sentences.shape)\n",
        "print(labels.shape)"
      ],
      "execution_count": null,
      "outputs": [
        {
          "output_type": "stream",
          "text": [
            "embedding length = 50\n",
            "data vocab size = 31726\n",
            "Glove vocab size = 400000\n",
            "(49725, 50)\n",
            "(49725, 1)\n"
          ],
          "name": "stdout"
        }
      ]
    },
    {
      "cell_type": "code",
      "metadata": {
        "id": "jTK4njbqKv_S"
      },
      "source": [
        "from tensorflow.keras.layers import Embedding,Input\n",
        "from tensorflow.keras.layers import LSTM\n",
        "from tensorflow.keras.layers import Dense\n",
        "from tensorflow.keras.layers import Dropout\n",
        "from tensorflow.keras.layers import Bidirectional, BatchNormalization\n",
        "from tensorflow.keras.models import Model\n",
        "from tensorflow.keras.callbacks import LearningRateScheduler"
      ],
      "execution_count": null,
      "outputs": []
    },
    {
      "cell_type": "code",
      "metadata": {
        "id": "x_RGp1U3pBK2"
      },
      "source": [
        "def pretrained_embedder(word_to_index,word_embeddings):\n",
        "  embed_dim = len(word_embeddings['a'])\n",
        "  vocab_size_glove = len(word_embeddings)\n",
        "\n",
        "  embed_matrix = np.zeros((vocab_size_glove+1,embed_dim))\n",
        "  for word,i in word_to_index.items():\n",
        "    embed_matrix[i,:] = word_embeddings[word]\n",
        "\n",
        "  embedder = Embedding(input_dim=vocab_size_glove+1,output_dim=embed_dim,trainable=False)\n",
        "  embedder.build((None,))\n",
        "  embedder.set_weights([embed_matrix])\n",
        "\n",
        "  return embedder"
      ],
      "execution_count": null,
      "outputs": []
    },
    {
      "cell_type": "code",
      "metadata": {
        "id": "SL8Ipj7JuaAZ"
      },
      "source": [
        "#So input cleaning is done and created the embeddings... next we will create the model using functional api"
      ],
      "execution_count": null,
      "outputs": []
    },
    {
      "cell_type": "code",
      "metadata": {
        "id": "GuxUYe39Khzr"
      },
      "source": [
        "def model(sent_length,word_to_index,word_embeddings):\n",
        "\n",
        "  X = Input(shape=(sent_length,),dtype='int32')\n",
        "  e = pretrained_embedder(word_to_index,word_embeddings)(X)\n",
        "  e = Dropout(0.8)(e)\n",
        "\n",
        "  out = Bidirectional(LSTM(128,return_sequences=True))(e)\n",
        "  out = BatchNormalization()(out)\n",
        "  out = Dropout(0.8)(out)\n",
        "\n",
        "  out = Bidirectional(LSTM(128,return_sequences=False))(out)\n",
        "  out = BatchNormalization()(out)\n",
        "  out = Dropout(0.8)(out)\n",
        "\n",
        "  output = Dense(units = 1,activation='sigmoid')(out)\n",
        "\n",
        "  model =  Model(inputs=X,outputs=output)\n",
        "\n",
        "  return model"
      ],
      "execution_count": null,
      "outputs": []
    },
    {
      "cell_type": "code",
      "metadata": {
        "id": "6QCuf3x4OR16",
        "colab": {
          "base_uri": "https://localhost:8080/"
        },
        "outputId": "8b00bf9c-bc9b-47b1-b6a9-ea745a7bb6ed"
      },
      "source": [
        "model = model(50,word_to_index,word_embeddings)\n",
        "model.summary()\n",
        "#number of parametrs are too high, made a mistake.... always put trainable=False in embedding layer otherwise your \n",
        "#trainable parametners will be really high which might impact performance..."
      ],
      "execution_count": null,
      "outputs": [
        {
          "output_type": "stream",
          "text": [
            "Model: \"functional_1\"\n",
            "_________________________________________________________________\n",
            "Layer (type)                 Output Shape              Param #   \n",
            "=================================================================\n",
            "input_1 (InputLayer)         [(None, 50)]              0         \n",
            "_________________________________________________________________\n",
            "embedding (Embedding)        (None, 50, 50)            20000050  \n",
            "_________________________________________________________________\n",
            "dropout (Dropout)            (None, 50, 50)            0         \n",
            "_________________________________________________________________\n",
            "bidirectional (Bidirectional (None, 50, 256)           183296    \n",
            "_________________________________________________________________\n",
            "batch_normalization (BatchNo (None, 50, 256)           1024      \n",
            "_________________________________________________________________\n",
            "dropout_1 (Dropout)          (None, 50, 256)           0         \n",
            "_________________________________________________________________\n",
            "bidirectional_1 (Bidirection (None, 256)               394240    \n",
            "_________________________________________________________________\n",
            "batch_normalization_1 (Batch (None, 256)               1024      \n",
            "_________________________________________________________________\n",
            "dropout_2 (Dropout)          (None, 256)               0         \n",
            "_________________________________________________________________\n",
            "dense (Dense)                (None, 1)                 257       \n",
            "=================================================================\n",
            "Total params: 20,579,891\n",
            "Trainable params: 578,817\n",
            "Non-trainable params: 20,001,074\n",
            "_________________________________________________________________\n"
          ],
          "name": "stdout"
        }
      ]
    },
    {
      "cell_type": "code",
      "metadata": {
        "id": "pZt2TsGUOxfZ",
        "colab": {
          "base_uri": "https://localhost:8080/"
        },
        "outputId": "cc7b3be2-5d3e-4554-fe48-3ebfe7618949"
      },
      "source": [
        "from keras.optimizers import Adam\n",
        "adam = Adam(lr=1e-2)\n",
        "lr_scheduler = LearningRateScheduler(lambda epoch : 1e-4 * (10**(epoch/40)))\n",
        "model.compile(loss = \"binary_crossentropy\",optimizer=adam,metrics=['accuracy'])\n",
        "history =  model.fit(X_train,y_train,epochs=200,batch_size=512,validation_data=(X_test,y_test))"
      ],
      "execution_count": null,
      "outputs": [
        {
          "output_type": "stream",
          "text": [
            "Epoch 1/200\n",
            "78/78 [==============================] - 189s 2s/step - loss: 0.7891 - accuracy: 0.5082 - val_loss: 0.6916 - val_accuracy: 0.5293\n",
            "Epoch 2/200\n",
            "78/78 [==============================] - 192s 2s/step - loss: 0.7096 - accuracy: 0.5120 - val_loss: 0.6975 - val_accuracy: 0.5293\n",
            "Epoch 3/200\n",
            "78/78 [==============================] - 191s 2s/step - loss: 0.7073 - accuracy: 0.5108 - val_loss: 0.6920 - val_accuracy: 0.5295\n",
            "Epoch 4/200\n",
            "78/78 [==============================] - 192s 2s/step - loss: 0.7019 - accuracy: 0.5191 - val_loss: 0.6922 - val_accuracy: 0.5294\n",
            "Epoch 5/200\n",
            "78/78 [==============================] - 190s 2s/step - loss: 0.6996 - accuracy: 0.5165 - val_loss: 0.6925 - val_accuracy: 0.5286\n",
            "Epoch 6/200\n",
            "78/78 [==============================] - 190s 2s/step - loss: 0.6974 - accuracy: 0.5188 - val_loss: 0.6934 - val_accuracy: 0.5293\n",
            "Epoch 7/200\n",
            "78/78 [==============================] - 191s 2s/step - loss: 0.6951 - accuracy: 0.5208 - val_loss: 0.6916 - val_accuracy: 0.5293\n",
            "Epoch 8/200\n",
            "78/78 [==============================] - 193s 2s/step - loss: 0.6935 - accuracy: 0.5241 - val_loss: 0.6932 - val_accuracy: 0.5293\n",
            "Epoch 9/200\n",
            "67/78 [========================>.....] - ETA: 25s - loss: 0.6927 - accuracy: 0.5284"
          ],
          "name": "stdout"
        }
      ]
    },
    {
      "cell_type": "code",
      "metadata": {
        "id": "2tvjrBMg7PiS"
      },
      "source": [
        "#plt.semilogx(history.history['lr'],history.history['loss'])"
      ],
      "execution_count": null,
      "outputs": []
    },
    {
      "cell_type": "code",
      "metadata": {
        "id": "R6HqIQGgbshF"
      },
      "source": [
        "import pandas as pd\n",
        "\n",
        "output = pd.DataFrame(history.history)\n",
        "output.plot()"
      ],
      "execution_count": null,
      "outputs": []
    },
    {
      "cell_type": "code",
      "metadata": {
        "id": "seZDMJGdeUrX"
      },
      "source": [
        "import sklearn\n",
        "from sklearn.metrics import confusion_matrix, classification_report\n",
        "\n",
        "y_pred = model.predict(X_test)\n",
        "y_pred = np.where(y_pred > 0.5,1,0)\n",
        "y_pred\n",
        "print(confusion_matrix(y_test,y_pred))\n",
        "print(classification_report(y_test,y_pred))"
      ],
      "execution_count": null,
      "outputs": []
    },
    {
      "cell_type": "code",
      "metadata": {
        "id": "2ZWiV8RwepqQ"
      },
      "source": [
        "# print(np.sum(y_test)/len(y_test))\n",
        "# print(np.sum(y_train)/len(y_train))"
      ],
      "execution_count": null,
      "outputs": []
    },
    {
      "cell_type": "code",
      "metadata": {
        "id": "QzsEAzsRhCIv"
      },
      "source": [
        "#tried many models but not finding any improvement.... strange..\n",
        "# maybe less number of traning examples... let's start a new project with a massive dataset..."
      ],
      "execution_count": null,
      "outputs": []
    },
    {
      "cell_type": "markdown",
      "metadata": {
        "id": "CF6LUatrn3Gg"
      },
      "source": [
        "# Method 2"
      ]
    },
    {
      "cell_type": "code",
      "metadata": {
        "id": "EHj3WTIWn6Tz"
      },
      "source": [
        "# https://www.kaggle.com/dklepl/preprocess-and-train-models\n",
        "\n",
        "# https://www.kaggle.com/dklepl/nlp-for-stock-market-prediction\n",
        "\n",
        "# https://www.kaggle.com/shreyams/stock-price-prediction-94-xgboost"
      ],
      "execution_count": null,
      "outputs": []
    },
    {
      "cell_type": "code",
      "metadata": {
        "id": "jJdUnf_WVQhF"
      },
      "source": [
        "import zipfile\n",
        "zip = zipfile.ZipFile('/content/drive/My Drive/NEW_DATASCIENCE_PROJECTS/DATA&READING MATERIALS/RedditFinanceNewstop25.zip')\n",
        "zip.extractall()"
      ],
      "execution_count": null,
      "outputs": []
    },
    {
      "cell_type": "code",
      "metadata": {
        "id": "tYMVcmfSVQhO"
      },
      "source": [
        "import pandas as pd\n",
        "import numpy as np"
      ],
      "execution_count": null,
      "outputs": []
    },
    {
      "cell_type": "code",
      "metadata": {
        "id": "zLiyQVSuVQhR"
      },
      "source": [
        "df = pd.read_csv(\"/content/Combined_News_DJIA.csv\")"
      ],
      "execution_count": null,
      "outputs": []
    },
    {
      "cell_type": "code",
      "metadata": {
        "id": "pGTwrACcn5rb"
      },
      "source": [
        "df.head()"
      ],
      "execution_count": null,
      "outputs": []
    },
    {
      "cell_type": "code",
      "metadata": {
        "id": "dns1fGrxU3Yc"
      },
      "source": [
        "df = df.replace(np.nan, ' ', regex=True)\n",
        "df = df.replace('b\\\"|b\\'|\\\\\\\\|\\\\\\\"', '', regex=True)\n",
        "df.head(2)"
      ],
      "execution_count": null,
      "outputs": []
    },
    {
      "cell_type": "code",
      "metadata": {
        "id": "VDOpGLk7U460"
      },
      "source": [
        "import nltk\n",
        "from nltk.sentiment import SentimentIntensityAnalyzer\n",
        "from textblob import TextBlob\n",
        "nltk.download('vader_lexicon')"
      ],
      "execution_count": null,
      "outputs": []
    },
    {
      "cell_type": "code",
      "metadata": {
        "id": "f1tuKSPkbTiz"
      },
      "source": [
        "Analyser = SentimentIntensityAnalyzer()"
      ],
      "execution_count": null,
      "outputs": []
    },
    {
      "cell_type": "code",
      "metadata": {
        "id": "Ae9MfvgcbX-U"
      },
      "source": [
        "def detect_subjectivity(text):\n",
        "    return TextBlob(text).sentiment.subjectivity"
      ],
      "execution_count": null,
      "outputs": []
    },
    {
      "cell_type": "code",
      "metadata": {
        "id": "zHs3E9vWdrOV"
      },
      "source": [
        "vars(TextBlob(df.loc[0,'Top1']))"
      ],
      "execution_count": null,
      "outputs": []
    },
    {
      "cell_type": "code",
      "metadata": {
        "id": "HI6JZJ7pb3rB"
      },
      "source": [
        "df_comp = pd.DataFrame()\n",
        "df_sub = pd.DataFrame()\n",
        "for col in df.columns[2:]:\n",
        "  df[col] = df[col].astype('str')\n",
        "  df_comp[col] = df[col].apply(lambda x:Analyser.polarity_scores(x)['compound'])\n",
        "  df_sub[col] = df[col].apply(detect_subjectivity)\n",
        "\n",
        "\n",
        "comp_cols = df_comp.columns\n",
        "\n",
        "w = np.arange(1,26,1).tolist()\n",
        "w.reverse()\n",
        "\n",
        "weighted_comp = []\n",
        "max_comp = []\n",
        "min_comp = []\n",
        "for i in range(0,len(df_comp)):\n",
        "    a = df_comp.loc[i,comp_cols].tolist()\n",
        "    weighted_comp.append(np.average(a, weights=w))\n",
        "    max_comp.append(max(a))\n",
        "    min_comp.append(min(a))\n",
        "\n",
        "df_comp['compound_mean'] = weighted_comp\n",
        "df_comp['compound_max'] = max_comp\n",
        "df_comp['compound_min'] = min_comp\n",
        "\n",
        "df_comp['compound_mean_lag1'] = df_comp['compound_mean'].shift(1)\n",
        "df_comp['compound_max_lag1'] = df_comp['compound_max'].shift(1)\n",
        "df_comp['compound_min_lag1'] = df_comp['compound_min'].shift(1)\n",
        "\n",
        "df_comp['compound_mean_lag2'] = df_comp['compound_mean'].shift(2)\n",
        "df_comp['compound_max_lag2'] = df_comp['compound_max'].shift(2)\n",
        "df_comp['compound_min_lag2'] = df_comp['compound_min'].shift(2)\n",
        "\n",
        "\n",
        "sub_cols = df_sub.columns\n",
        "\n",
        "weighted_sub = []\n",
        "max_sub = []\n",
        "min_sub = []\n",
        "for i in range(0,len(df)):\n",
        "    a = df_sub.loc[i,sub_cols].tolist()\n",
        "    weighted_sub.append(np.average(a, weights=w))\n",
        "    max_sub.append(max(a))\n",
        "    min_sub.append(min(a))\n",
        "\n",
        "df_sub['subjectivity_mean'] = weighted_sub\n",
        "df_sub['subjectivity_max'] = max_sub\n",
        "df_sub['subjectivity_min'] = min_sub\n",
        "\n",
        "\n",
        "df_sub['subjectivity_mean_lag1'] = df_sub['subjectivity_mean'].shift(1)\n",
        "df_sub['subjectivity_max_lag1'] = df_sub['subjectivity_max'].shift(1)\n",
        "df_sub['subjectivity_min_lag1'] = df_sub['subjectivity_min'].shift(1)\n",
        "\n",
        "df_sub['subjectivity_mean_lag2'] = df_sub['subjectivity_mean'].shift(2)\n",
        "df_sub['subjectivity_max_lag2'] = df_sub['subjectivity_max'].shift(2)\n",
        "df_sub['subjectivity_min_lag2'] = df_sub['subjectivity_min'].shift(2)\n",
        "\n",
        "\n",
        "df_comp = df_comp.iloc[2:]\n",
        "df_sub = df_sub.iloc[2:]\n",
        "df = df.iloc[2:]\n",
        "\n",
        "\n",
        "df_sub_cols = df_sub.columns.tolist()\n",
        "df_comp_cols = df_comp.columns.tolist()\n",
        "\n",
        "for col in df_sub_cols[:25]:\n",
        "  df.drop(col,axis=1,inplace=True)\n",
        "  df[col + '_sub'] = df_sub[col]\n",
        "  df[col + '_comp'] = df_comp[col]\n",
        "\n",
        "for col in df_sub_cols[25:]:\n",
        "  df[col] = df_sub[col]\n",
        "\n",
        "for col in df_comp_cols[25:]:\n",
        "  df[col] = df_comp[col]\n",
        "\n",
        "df.head(5)"
      ],
      "execution_count": null,
      "outputs": []
    },
    {
      "cell_type": "code",
      "metadata": {
        "id": "14V5pTTb3hK7"
      },
      "source": [
        "def unique_ratio (col):\n",
        "    return len(np.unique(col))/len(col)\n",
        "\n",
        "cols = ['compound_mean', 'compound_max', 'compound_min', 'subjectivity_mean', 'subjectivity_max', 'subjectivity_min','compound_max_lag1', 'compound_min_lag1',\n",
        "       'compound_max_lag2', 'compound_min_lag2','subjectivity_mean_lag1', 'subjectivity_max_lag1',\n",
        "       'subjectivity_min_lag1', 'subjectivity_mean_lag2',\n",
        "       'subjectivity_max_lag2', 'subjectivity_min_lag2']\n",
        "\n",
        "ur = []\n",
        "var = []\n",
        "for col in cols:\n",
        "    ur.append(unique_ratio(df[col]))\n",
        "    var.append(np.var(df[col]))\n",
        "    \n",
        "feature_sel = pd.DataFrame({'Column': cols, \n",
        "              'Unique': ur,\n",
        "              'Variance': var})\n",
        "print(feature_sel)\n",
        "\n",
        "drop = ['subjectivity_min', 'subjectivity_max', 'subjectivity_max_lag1',\n",
        "       'subjectivity_min_lag1','subjectivity_max_lag2', 'subjectivity_min_lag2']\n",
        "df = df.drop(drop,axis=1)"
      ],
      "execution_count": null,
      "outputs": []
    },
    {
      "cell_type": "code",
      "metadata": {
        "id": "XHETy-tBwISd"
      },
      "source": [
        "df"
      ],
      "execution_count": null,
      "outputs": []
    },
    {
      "cell_type": "code",
      "metadata": {
        "id": "cAlPmdnGMHbQ"
      },
      "source": [
        "from sklearn.model_selection import train_test_split,GridSearchCV\n",
        "from sklearn.metrics import make_scorer,mean_squared_error,mean_absolute_error,classification_report\n",
        "from sklearn.preprocessing import StandardScaler\n",
        "from sklearn.linear_model import RidgeClassifier\n",
        "from sklearn.pipeline import Pipeline\n",
        "\n",
        "y = df['Label'].values.astype('float')\n",
        "X = df.iloc[:,52:].values.astype('float')\n",
        "\n",
        "X_train, X_test, y_train, y_test = train_test_split(X, y, test_size=0.2, random_state=42)"
      ],
      "execution_count": null,
      "outputs": []
    },
    {
      "cell_type": "code",
      "metadata": {
        "id": "h4RAurQcqD2f"
      },
      "source": [
        "# def mape(y_true, y_pred): \n",
        "#     return np.mean(np.abs((y_true - y_pred) / y_true)) * 100\n",
        "# scorer = make_scorer(mean_squared_error)\n",
        "# scaler = StandardScaler()\n",
        "\n",
        "# ridge_param = {'model__alpha': list(np.arange(1,10,0.1))}\n",
        "# ridge = RidgeClassifier(max_iter=5000)\n",
        "# pipe = Pipeline([\n",
        "#     ('scale', scaler),\n",
        "#     ('model', ridge)\n",
        "# ])\n",
        "# search_ridge = GridSearchCV(estimator=pipe,\n",
        "#                           param_grid = ridge_param,\n",
        "#                           scoring = scorer,\n",
        "#                           n_jobs=4\n",
        "#                          )\n",
        "# search_ridge.fit(X_train, y_train)\n",
        "\n",
        "# ridge_n = search_ridge.best_estimator_\n",
        "\n",
        "# print(classification_report(y_test, ridge_n.predict(X_test)))"
      ],
      "execution_count": null,
      "outputs": []
    },
    {
      "cell_type": "code",
      "metadata": {
        "id": "cqE9YrCkp_nA"
      },
      "source": [
        "scaler = StandardScaler()\n",
        "\n",
        "X_train = scaler.fit_transform(X_train)\n",
        "X_test = scaler.transform(X_test)"
      ],
      "execution_count": null,
      "outputs": []
    },
    {
      "cell_type": "code",
      "metadata": {
        "id": "w15lTnfOsPog"
      },
      "source": [
        "from tensorflow.keras.models import Model\n",
        "from tensorflow.keras.layers import Dense,Dropout,BatchNormalization,Input\n",
        "\n",
        "\n",
        "\n",
        "def model():\n",
        "  X = Input(shape=(18))\n",
        "\n",
        "  a = Dense(10,activation='relu')(X)\n",
        "  a = Dropout(0.5)(a)\n",
        "  b = Dense(5,activation='relu')(a)\n",
        "  b = Dropout(0.5)(b)\n",
        "  out = Dense(1,activation='sigmoid')(b)\n",
        "\n",
        "  return Model(inputs=[X],outputs=[out])\n",
        "\n",
        "model = model()\n",
        "print(model.summary())"
      ],
      "execution_count": null,
      "outputs": []
    },
    {
      "cell_type": "code",
      "metadata": {
        "id": "HFMeFYtyuyNJ"
      },
      "source": [
        "model.compile(optimizer='adam',loss='binary_crossentropy',metrics=['accuracy']) n\n",
        "model.fit(X_train,y_train,validation_data=(X_test,y_test),epochs=200)"
      ],
      "execution_count": null,
      "outputs": []
    },
    {
      "cell_type": "code",
      "metadata": {
        "id": "WQ_EEhcBvNoP"
      },
      "source": [
        "pd.DataFrame(model.history.history).plot()"
      ],
      "execution_count": null,
      "outputs": []
    },
    {
      "cell_type": "code",
      "metadata": {
        "id": "ZMgVbbp1yL_0"
      },
      "source": [
        ""
      ],
      "execution_count": null,
      "outputs": []
    },
    {
      "cell_type": "markdown",
      "metadata": {
        "id": "KzuAivyDENlg"
      },
      "source": [
        "# Method 3"
      ]
    },
    {
      "cell_type": "code",
      "metadata": {
        "id": "PmsVe0TwEQ1e"
      },
      "source": [
        "import zipfile\n",
        "zip = zipfile.ZipFile('/content/drive/My Drive/NEW_DATASCIENCE_PROJECTS/DATA&READING MATERIALS/RedditFinanceNewstop25.zip')\n",
        "zip.extractall()"
      ],
      "execution_count": null,
      "outputs": []
    },
    {
      "cell_type": "code",
      "metadata": {
        "id": "mCFUld2IEQ1e"
      },
      "source": [
        "import pandas as pd\n",
        "import numpy as np"
      ],
      "execution_count": null,
      "outputs": []
    },
    {
      "cell_type": "code",
      "metadata": {
        "id": "TzRsKKPUEQ1e"
      },
      "source": [
        "df = pd.read_csv(\"/content/Combined_News_DJIA.csv\")"
      ],
      "execution_count": null,
      "outputs": []
    },
    {
      "cell_type": "code",
      "metadata": {
        "id": "-sMn0HX4EQ1f"
      },
      "source": [
        "df.head()"
      ],
      "execution_count": null,
      "outputs": []
    },
    {
      "cell_type": "code",
      "metadata": {
        "id": "zAGe20enEQ1f"
      },
      "source": [
        "df = df.replace(np.nan, ' ', regex=True)\n",
        "df = df.replace('b\\\"|b\\'|\\\\\\\\|\\\\\\\"', '', regex=True)\n",
        "df.head(2)"
      ],
      "execution_count": null,
      "outputs": []
    },
    {
      "cell_type": "code",
      "metadata": {
        "id": "F4sdaykAEQ1f"
      },
      "source": [
        "import nltk\n",
        "from nltk.sentiment import SentimentIntensityAnalyzer\n",
        "from textblob import TextBlob\n",
        "nltk.download('vader_lexicon')"
      ],
      "execution_count": null,
      "outputs": []
    },
    {
      "cell_type": "code",
      "metadata": {
        "id": "EQzQtx8vEQ1f"
      },
      "source": [
        "Analyser = SentimentIntensityAnalyzer()"
      ],
      "execution_count": null,
      "outputs": []
    },
    {
      "cell_type": "code",
      "metadata": {
        "id": "v8f2zryfEQ1f"
      },
      "source": [
        "def detect_subjectivity(text):\n",
        "    return TextBlob(text).sentiment.subjectivity"
      ],
      "execution_count": null,
      "outputs": []
    },
    {
      "cell_type": "code",
      "metadata": {
        "id": "5hUi3AbyEQ1f"
      },
      "source": [
        "vars(TextBlob(df.loc[0,'Top1']))"
      ],
      "execution_count": null,
      "outputs": []
    },
    {
      "cell_type": "code",
      "metadata": {
        "id": "Nqtr46a2FAyN"
      },
      "source": [
        "df.iloc[0,2:].values.T"
      ],
      "execution_count": null,
      "outputs": []
    },
    {
      "cell_type": "code",
      "metadata": {
        "id": "6UPwXziaFOWE"
      },
      "source": [
        "text_data = np.zeros((len(df)*25,),dtype='object')\n",
        "label_data = np.zeros((len(df)*25,),dtype='float')\n",
        "\n",
        "\n",
        "for ind in range(len(df)):\n",
        "  text_data[ind*25:(ind+1)*25] = df.iloc[ind,2:].values.T.astype('str')\n",
        "  label_data[ind*25:(ind+1)*25] = df.iloc[ind,1]\n",
        "\n",
        "\n",
        "comp_data = np.array([Analyser.polarity_scores(x)['compound'] for x in text_data],dtype='float')\n",
        "sub_data = np.array([detect_subjectivity(x) for x in text_data],dtype='float')\n",
        "\n",
        "comp_mean = np.zeros((len(df)*25,),dtype='float')\n",
        "sub_mean = np.zeros((len(df)*25,),dtype='float')\n",
        "\n",
        "for i in np.arange(0,len(text_data),25):\n",
        "  comp_mean[i:i+25] = np.mean(comp_data[i:i+25])\n",
        "  sub_mean[i:i+25] = np.mean(sub_data[i:i+25])\n",
        "\n",
        "\n",
        "\n",
        "df_new = pd.DataFrame(data = {'text':text_data,'label':label_data,'comp':comp_data,'sub':sub_data,'comp_mean':comp_mean,'sub_mean':sub_mean})\n"
      ],
      "execution_count": null,
      "outputs": []
    },
    {
      "cell_type": "code",
      "metadata": {
        "id": "h-GcBowCMYFs"
      },
      "source": [
        "df_new.info()"
      ],
      "execution_count": null,
      "outputs": []
    },
    {
      "cell_type": "code",
      "metadata": {
        "id": "ZyCukxeQOIlw"
      },
      "source": [
        "from sklearn.preprocessing import StandardScaler\n",
        "from sklearn.model_selection import train_test_split\n",
        "from tensorflow.keras.models import Model\n",
        "from tensorflow.keras.layers import Dense,Dropout,BatchNormalization,Input\n",
        "\n",
        "\n",
        "y = df_new['label'].values.astype('float')\n",
        "X = df_new.iloc[:,2:].values.astype('float')\n",
        "\n",
        "X_train, X_test, y_train, y_test = train_test_split(X, y, test_size=0.2, random_state=42,shuffle=True)"
      ],
      "execution_count": null,
      "outputs": []
    },
    {
      "cell_type": "code",
      "metadata": {
        "id": "TH3oXcqHOcFh"
      },
      "source": [
        "\n",
        "scaler = StandardScaler()\n",
        "\n",
        "X_train = scaler.fit_transform(X_train)\n",
        "X_test = scaler.transform(X_test)"
      ],
      "execution_count": null,
      "outputs": []
    },
    {
      "cell_type": "code",
      "metadata": {
        "id": "HhLsW55SOcFh"
      },
      "source": [
        "def model():\n",
        "  X = Input(shape=(4))\n",
        "\n",
        "  a = Dense(10,activation='relu')(X)\n",
        "  a = Dense(5,activation='relu')(a)\n",
        "  a = Dense(5,activation='relu')(a)\n",
        "  a = Dense(5,activation='relu')(a)\n",
        "  a = Dense(5,activation='relu')(a)\n",
        "  a = Dense(5,activation='relu')(a)\n",
        "  a = Dense(4,activation='relu')(a)\n",
        "  out = Dense(1,activation='sigmoid')(a)\n",
        "\n",
        "  return Model(inputs=[X],outputs=[out])\n",
        "\n",
        "model = model()\n",
        "print(model.summary())"
      ],
      "execution_count": null,
      "outputs": []
    },
    {
      "cell_type": "code",
      "metadata": {
        "id": "l7w58v2yOcFh"
      },
      "source": [
        "model.compile(optimizer='adam',loss='binary_crossentropy',metrics=['accuracy'])\n",
        "model.fit(X_train,y_train,validation_data=(X_test,y_test),epochs=200)"
      ],
      "execution_count": null,
      "outputs": []
    },
    {
      "cell_type": "code",
      "metadata": {
        "id": "G3kaDhM0OcFh"
      },
      "source": [
        "pd.DataFrame(model.history.history).plot()"
      ],
      "execution_count": null,
      "outputs": []
    },
    {
      "cell_type": "code",
      "metadata": {
        "id": "eYHjc1BROqJD"
      },
      "source": [
        ""
      ],
      "execution_count": null,
      "outputs": []
    },
    {
      "cell_type": "markdown",
      "metadata": {
        "id": "YD_S_eeLTYTw"
      },
      "source": [
        "#Instead of daily news data..... try using hourly data.... and use previous hour headlines to predict current upswing or downswing......"
      ]
    }
  ]
}